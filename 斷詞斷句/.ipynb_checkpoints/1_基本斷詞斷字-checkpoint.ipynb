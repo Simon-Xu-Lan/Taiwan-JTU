{
 "cells": [
  {
   "cell_type": "markdown",
   "metadata": {
    "id": "TWuKukRXbKxt"
   },
   "source": [
    "# 電腦學中文的第一步：斷詞"
   ]
  },
  {
   "cell_type": "code",
   "execution_count": 1,
   "metadata": {
    "colab": {
     "base_uri": "https://localhost:8080/"
    },
    "executionInfo": {
     "elapsed": 4,
     "status": "ok",
     "timestamp": 1709124775923,
     "user": {
      "displayName": "蒯思齊",
      "userId": "00428339609340727865"
     },
     "user_tz": -480
    },
    "id": "pGWx1tCpqW2D",
    "outputId": "8dfd54a7-99db-4550-98d4-bd3f61f94c3d"
   },
   "outputs": [
    {
     "name": "stdout",
     "output_type": "stream",
     "text": [
      "['Thomas', 'Jefferson', 'began', 'building', 'Monticello', 'at', 'the', 'age', 'of', '26.']\n"
     ]
    }
   ],
   "source": [
    "sentence = \"Thomas Jefferson began building Monticello at the age of 26.\"\n",
    "# 用split函式分割字串\n",
    "print(sentence.split())"
   ]
  },
  {
   "cell_type": "code",
   "execution_count": 2,
   "metadata": {
    "colab": {
     "base_uri": "https://localhost:8080/"
    },
    "executionInfo": {
     "elapsed": 322,
     "status": "ok",
     "timestamp": 1709124832278,
     "user": {
      "displayName": "蒯思齊",
      "userId": "00428339609340727865"
     },
     "user_tz": -480
    },
    "id": "-OALBKcGwY2-",
    "outputId": "935fc83f-bd2d-4b74-ce9c-b5ac2cdb7a76"
   },
   "outputs": [
    {
     "name": "stdout",
     "output_type": "stream",
     "text": [
      "['Thomas', 'Jefferson', 'began', 'building', 'Monticello', 'at', 'the', 'age', 'of', '26.']\n"
     ]
    }
   ],
   "source": [
    "# 用str類別內的函式分割字串\n",
    "print(str.split(sentence))"
   ]
  },
  {
   "cell_type": "code",
   "execution_count": 3,
   "metadata": {
    "colab": {
     "base_uri": "https://localhost:8080/"
    },
    "executionInfo": {
     "elapsed": 2,
     "status": "ok",
     "timestamp": 1709125115947,
     "user": {
      "displayName": "蒯思齊",
      "userId": "00428339609340727865"
     },
     "user_tz": -480
    },
    "id": "1Fg9HCqZxPcq",
    "outputId": "dea25ba3-54ab-40a5-9819-6d81258f4fcc"
   },
   "outputs": [
    {
     "name": "stdout",
     "output_type": "stream",
     "text": [
      "['thomas', 'jefferson', 'began', 'building', 'monticello', 'at', 'the', 'age', 'of', '26']\n"
     ]
    }
   ],
   "source": [
    "import tensorflow as tf\n",
    "print(tf.keras.preprocessing.text.text_to_word_sequence(input_text=sentence,\n",
    "                              filters='!\"#$%&()*+,-./:;<=>?@[\\\\]^_`{|}~\\t\\n',\n",
    "                              lower=True,\n",
    "                              split=\" \"))"
   ]
  },
  {
   "cell_type": "code",
   "execution_count": 9,
   "metadata": {},
   "outputs": [
    {
     "name": "stdout",
     "output_type": "stream",
     "text": [
      "['Thomas', 'Jefferson', 'began', 'building', 'Monticello', 'at', 'the', 'age', 'of', '26']\n"
     ]
    }
   ],
   "source": [
    "import tensorflow as tf\n",
    "print(tf.keras.preprocessing.text.text_to_word_sequence(input_text=sentence,\n",
    "                              filters='!\"#$%&()*+,-./:;<=>?@[\\\\]^_`{|}~\\t\\n',\n",
    "                              lower=False,\n",
    "                              split=\" \"))"
   ]
  },
  {
   "cell_type": "code",
   "execution_count": 8,
   "metadata": {
    "colab": {
     "base_uri": "https://localhost:8080/"
    },
    "executionInfo": {
     "elapsed": 279,
     "status": "ok",
     "timestamp": 1709125154571,
     "user": {
      "displayName": "蒯思齊",
      "userId": "00428339609340727865"
     },
     "user_tz": -480
    },
    "id": "gzwnqjzzf3rR",
    "outputId": "7b3bde4f-b7f8-4605-d443-95845bf7916e"
   },
   "outputs": [
    {
     "name": "stdout",
     "output_type": "stream",
     "text": [
      "['thomas jefferson began building monticello at the age of 26']\n"
     ]
    }
   ],
   "source": [
    "print(tf.keras.preprocessing.text.text_to_word_sequence(\n",
    "                    input_text=sentence,\n",
    "                    filters='!\"#$%&()*+,-./:;<=>?@[\\\\]^_`{|}~\\t\\n', #charactors need to be filtered.\n",
    "                    lower=True, #the word will be in lower case\n",
    "                    split=\",\"  # 用什么东西去分割\n",
    "))"
   ]
  },
  {
   "cell_type": "code",
   "execution_count": 5,
   "metadata": {
    "colab": {
     "base_uri": "https://localhost:8080/"
    },
    "executionInfo": {
     "elapsed": 453,
     "status": "ok",
     "timestamp": 1709125245024,
     "user": {
      "displayName": "蒯思齊",
      "userId": "00428339609340727865"
     },
     "user_tz": -480
    },
    "id": "edGDaBrCbLX6",
    "outputId": "e886d98a-714f-4a52-f1e5-398b2cb45d5a"
   },
   "outputs": [
    {
     "name": "stdout",
     "output_type": "stream",
     "text": [
      "['湯瑪斯傑佛遜在26歲打造了蒙蒂沙羅。']\n"
     ]
    }
   ],
   "source": [
    "cht_sentence = \" 湯瑪斯傑佛遜在26歲打造了蒙蒂沙羅。\"\n",
    "print(tf.keras.preprocessing.text.text_to_word_sequence(input_text=cht_sentence,\n",
    "                              filters='!\"#$%&()*+,-./:;<=>?@[\\\\]^_`{|}~\\t\\n',\n",
    "                              lower=True,\n",
    "                              split=\" \"))"
   ]
  },
  {
   "cell_type": "code",
   "execution_count": null,
   "metadata": {},
   "outputs": [],
   "source": []
  }
 ],
 "metadata": {
  "colab": {
   "provenance": []
  },
  "kernelspec": {
   "display_name": "mlenv",
   "language": "python",
   "name": "mlenv"
  },
  "language_info": {
   "codemirror_mode": {
    "name": "ipython",
    "version": 3
   },
   "file_extension": ".py",
   "mimetype": "text/x-python",
   "name": "python",
   "nbconvert_exporter": "python",
   "pygments_lexer": "ipython3",
   "version": "3.7.11"
  }
 },
 "nbformat": 4,
 "nbformat_minor": 1
}
